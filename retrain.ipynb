{
 "cells": [
  {
   "cell_type": "code",
   "execution_count": 30,
   "id": "6813f7c1-279e-4b6f-af22-52efaa728ca2",
   "metadata": {},
   "outputs": [],
   "source": [
    "import os\n",
    "import warnings\n",
    "from copy import copy\n",
    "import numpy as np\n",
    "import pandas as pd\n",
    "from datetime import datetime\n",
    "\n",
    "# 進度條\n",
    "from tqdm import tqdm\n",
    "\n",
    "# 分詞\n",
    "from ckip_transformers import __version__\n",
    "from ckip_transformers.nlp import CkipWordSegmenter, CkipPosTagger, CkipNerChunker\n",
    "from torch import cuda\n",
    "\n",
    "# TFIDF\n",
    "from sklearn.feature_extraction.text import TfidfVectorizer\n",
    "\n",
    "# LSA\n",
    "from sklearn.decomposition import TruncatedSVD\n",
    "from sklearn.pipeline import make_pipeline\n",
    "from sklearn.preprocessing import Normalizer\n",
    "\n",
    "# LSI\n",
    "from gensim import corpora, models\n",
    "\n",
    "# Model\n",
    "from xgboost import XGBClassifier\n",
    "from sklearn.metrics import precision_score, f1_score\n",
    "\n",
    "# from sklearn 訓練用\n",
    "from sklearn.model_selection import RandomizedSearchCV, train_test_split\n",
    "from sklearn.pipeline import Pipeline\n",
    "\n",
    "# 評估指標\n",
    "from sklearn.metrics import precision_score, f1_score, confusion_matrix, classification_report\n",
    "\n",
    "\n",
    "# 儲存模型用\n",
    "import dill"
   ]
  },
  {
   "cell_type": "markdown",
   "id": "577610b4-54b3-44de-b93f-1fec0fee29a9",
   "metadata": {},
   "source": [
    "# **分詞**"
   ]
  },
  {
   "cell_type": "code",
   "execution_count": 2,
   "id": "399d08a7-f7b9-40a2-88bf-38e75b05dc6b",
   "metadata": {},
   "outputs": [],
   "source": [
    "# ckip分詞模型父資料夾\n",
    "ckip_path = r\"./ckiplab/\"\n",
    "\n",
    "# 新聞標題及label的表格路徑\n",
    "folder_path = r\"./history_tag\"\n",
    "# 用串列抓出所有路徑內的資料夾\n",
    "folders = os.listdir(folder_path)"
   ]
  },
  {
   "cell_type": "markdown",
   "id": "bb0d53de-b4a4-4a76-ac45-5fc42349f01d",
   "metadata": {},
   "source": [
    "### 讀data檔"
   ]
  },
  {
   "cell_type": "code",
   "execution_count": 3,
   "id": "815c862e-b2f4-4ad3-87b7-41c90da8dc4c",
   "metadata": {},
   "outputs": [
    {
     "name": "stderr",
     "output_type": "stream",
     "text": [
      "讀取路徑內全部xslx檔案: 100%|████████████████████████████████████████████████████████████| 2/2 [00:03<00:00,  1.94s/it]\n"
     ]
    }
   ],
   "source": [
    "#讀檔時，會一直有future warning，告知未來datetime型式的欄位不會自動轉換。暫時關閉future warning\n",
    "warnings.filterwarnings(\"ignore\")\n",
    "\n",
    "df_list = []\n",
    "for folder in tqdm(folders, desc='讀取路徑內全部xslx檔案'):\n",
    "    files = os.listdir(folder_path + \"/\" + folder)\n",
    "    for file in files:\n",
    "        tmp = pd.read_excel(folder_path + \"/\" + folder + \"/\" + file)\n",
    "        tmp[\"Click\"]=tmp[\"Click\"].astype(str)\n",
    "        tmp[\"DailyNews\"]=tmp[\"DailyNews\"].astype(str)\n",
    "        try:\n",
    "            df_list.append(tmp[[\"title\",\"datetime\",\"short_url\",\"site\",\"Click\", \"DailyNews\"]])\n",
    "        except:\n",
    "            print(file)\n",
    "content_df = pd.concat(df_list)\n",
    "#啟動future warning\n",
    "warnings.filterwarnings(\"default\") "
   ]
  },
  {
   "cell_type": "markdown",
   "id": "8b9a828f-c4c9-46b1-824b-1eda48ab58e3",
   "metadata": {},
   "source": [
    "### 字元處理"
   ]
  },
  {
   "cell_type": "code",
   "execution_count": 4,
   "id": "321caea0-7af3-444d-b4a6-f88ff8e4adda",
   "metadata": {},
   "outputs": [],
   "source": [
    "#暫時關閉future warning\n",
    "warnings.filterwarnings(\"ignore\")\n",
    "\n",
    "# 去除非字元的字符\n",
    "content_df.title = content_df.title.str.replace(r'\\W', r'')\n",
    "# 英文大寫\n",
    "content_df.title = content_df.title.str.upper()\n",
    "# 去除數字\n",
    "content_df.title = content_df.title.str.replace(r'\\d', r'')\n",
    "\n",
    "#啟動future warning\n",
    "warnings.filterwarnings(\"default\") "
   ]
  },
  {
   "cell_type": "markdown",
   "id": "3469863d-dbdf-4bef-b967-243c9a0ad057",
   "metadata": {
    "id": "7e91e07e-1390-4c53-a448-01686415fa16"
   },
   "source": [
    "### CKIP Transformer分詞、詞性標註"
   ]
  },
  {
   "cell_type": "code",
   "execution_count": 5,
   "id": "32fc6727-923e-49ad-afb2-f97cf8684ff5",
   "metadata": {},
   "outputs": [],
   "source": [
    "# 裝置\n",
    "device = 0 if cuda.is_available() else -1\n",
    "\n",
    "# 建立分詞、詞性標記、命名實體物件\n",
    "ws_driver = CkipWordSegmenter(model_name=ckip_path + 'albert-base-chinese-ws',device=device) # 分詞\n",
    "pos_driver = CkipPosTagger(model_name=ckip_path + 'albert-base-chinese-pos',device=device)    # 詞性標記(POS)"
   ]
  },
  {
   "cell_type": "code",
   "execution_count": 6,
   "id": "22d6223b-42e9-421e-b7f2-4cbb0216b28a",
   "metadata": {},
   "outputs": [
    {
     "name": "stderr",
     "output_type": "stream",
     "text": [
      "Tokenization: 100%|█████████████████████████████████████████████████████████████| 6550/6550 [00:00<00:00, 24654.02it/s]\n",
      "Inference: 100%|███████████████████████████████████████████████████████████████████████| 26/26 [07:45<00:00, 17.89s/it]\n",
      "Tokenization: 100%|█████████████████████████████████████████████████████████████| 6550/6550 [00:00<00:00, 40012.37it/s]\n",
      "Inference: 100%|███████████████████████████████████████████████████████████████████████| 26/26 [07:53<00:00, 18.21s/it]\n"
     ]
    }
   ],
   "source": [
    "ws = ws_driver(content_df.title)\n",
    "pos = pos_driver(ws)"
   ]
  },
  {
   "cell_type": "code",
   "execution_count": 7,
   "id": "5c1f53fd-452e-4788-ae4f-8397ca3b4a30",
   "metadata": {},
   "outputs": [],
   "source": [
    "content_df = content_df.dropna(subset=['title'])"
   ]
  },
  {
   "cell_type": "markdown",
   "id": "26117b1b-3ab0-4630-930d-75794a4680b5",
   "metadata": {
    "id": "50485119-e580-4edc-aa70-6343f304b666"
   },
   "source": [
    "### 移除部分詞性\n",
    "把CKIP中的部分詞性的詞、以及前面設定的停用詞移除"
   ]
  },
  {
   "cell_type": "code",
   "execution_count": 8,
   "id": "154054ff-091a-4ffa-aa84-7fc93885d53c",
   "metadata": {
    "id": "1069049d-41d4-45e7-9dc6-fdd19100d554"
   },
   "outputs": [],
   "source": [
    "# 用來保留主要詞彙的函式\n",
    "def clean(sentence_ws, sentence_pos):\n",
    "    short_with_pos = []\n",
    "    short_sentence = []\n",
    "    stop_pos = set(['Nep', 'Nh']) # 這 2種詞性不保留(指代定詞、代名詞)\n",
    "    \n",
    "    for word_ws, word_pos in zip(sentence_ws, sentence_pos):\n",
    "        \n",
    "        # 部分的分詞內有包含空白字元，會導致停用詞不會被辨識到，所以在這邊用replace處理掉空白字元\n",
    "        word_ws = word_ws.replace(' ','')\n",
    "        \n",
    "        # 只留名詞和動詞\n",
    "        is_N_or_V = word_pos.startswith(\"V\") or word_pos.startswith(\"N\") or word_pos.startswith(\"FW\")\n",
    "        # 去掉名詞裡的某些詞性(指代定詞、代名詞、專有名詞)\n",
    "        is_not_stop_pos = word_pos not in stop_pos\n",
    "        # 只剩一個字的詞也不留\n",
    "        is_not_one_charactor = not (len(word_ws) == 1)\n",
    "        \n",
    "        # 組成串列\n",
    "        if is_N_or_V and is_not_stop_pos and is_not_one_charactor:\n",
    "            short_sentence.append(f\"{word_ws}\")\n",
    "            \n",
    "    return \" \".join(short_sentence)\n",
    "\n",
    "# 把前面的ws分詞、pos詞性標駐合併為同一個表格，並用apply套用上段函式\n",
    "df = pd.DataFrame({'ws':pd.Series(ws), 'pos':pd.Series(pos)})\n",
    "texts = df.apply(lambda row: clean(row.ws, row.pos),axis=1)"
   ]
  },
  {
   "cell_type": "markdown",
   "id": "9909fde4-ea81-4b05-8df5-29350b3b42cd",
   "metadata": {
    "id": "33bc9d94-557f-4af6-be08-3d9b437edde4",
    "tags": []
   },
   "source": [
    "# **數據預處理**"
   ]
  },
  {
   "cell_type": "markdown",
   "id": "12088f8e-622f-4b70-925f-356af0ec64ec",
   "metadata": {},
   "source": [
    "### 讓後續模型在訓練時，用變數texts_df當作資料表"
   ]
  },
  {
   "cell_type": "markdown",
   "id": "d7c233de-4b7b-427b-b970-8bc67ef05213",
   "metadata": {},
   "source": [
    "把分詞和斷詞後的texts，和原本content_df的click、dailynews欄位合併"
   ]
  },
  {
   "cell_type": "code",
   "execution_count": 9,
   "id": "4af53440-a525-43f6-a138-8bc154caf2be",
   "metadata": {},
   "outputs": [],
   "source": [
    "texts.name = 'texts' # 先給texts一個欄位名稱\n",
    "texts_df = pd.concat([texts, content_df.reset_index(drop=True)[['Click', 'DailyNews']]], axis=1) #合併表格"
   ]
  },
  {
   "cell_type": "code",
   "execution_count": 10,
   "id": "1788f43a-62c5-4901-965c-e2b0af3f2da0",
   "metadata": {},
   "outputs": [],
   "source": [
    "# Click、DailyNews可能有不是數值的，這邊把數值挑出，並再全部轉為float，再檢視遺漏值數量\n",
    "texts_df.Click = texts_df.Click.str.findall(r'\\d+').apply(lambda l: l[0] if l else None)\n",
    "texts_df.Click = texts_df.Click.astype(float)\n",
    "\n",
    "texts_df.DailyNews = texts_df.DailyNews.str.findall(r'\\d+').apply(lambda l: l[0] if l else None)\n",
    "texts_df.DailyNews = texts_df.DailyNews.astype(float)"
   ]
  },
  {
   "cell_type": "code",
   "execution_count": 11,
   "id": "abfd9bc7-e6e2-4912-9672-816441c6bc82",
   "metadata": {},
   "outputs": [],
   "source": [
    "# 去除遺漏的資料\n",
    "texts_df = texts_df.dropna()"
   ]
  },
  {
   "cell_type": "markdown",
   "id": "61a6641d-d5c2-42c1-af5f-636c36d957ef",
   "metadata": {
    "tags": []
   },
   "source": [
    "# **定義訓練用函式、參數、物件**"
   ]
  },
  {
   "cell_type": "markdown",
   "id": "6d86ddab-25c0-4d00-b2d8-ba5be367ee2f",
   "metadata": {},
   "source": [
    "### 定義訓練用函式"
   ]
  },
  {
   "cell_type": "code",
   "execution_count": 12,
   "id": "84b44ecd-70fd-404f-8c75-a1e9494b4955",
   "metadata": {
    "tags": []
   },
   "outputs": [],
   "source": [
    "# LSA 降維(TruncatedSVD、正規化)\n",
    "class LSA:\n",
    "    def __init__(self, n_components=300):\n",
    "        self.n_components = n_components\n",
    "        self.svd = TruncatedSVD(n_components=self.n_components)\n",
    "        self.normalizer = Normalizer(copy=False)\n",
    "    \n",
    "    def fit(self, X, y=None):\n",
    "        self.X_lsa = make_pipeline(self.svd, self.normalizer).fit(X)\n",
    "        return self\n",
    "        \n",
    "    def transform(self, X, y=None):\n",
    "        return self.X_lsa.transform(X)\n",
    "\n",
    "# LSI 找潛在議題，並用議題得分當特徵\n",
    "class LSI:\n",
    "    def __init__(self, num_topics=20):\n",
    "        self.num_topics = num_topics\n",
    "    \n",
    "    def fit(self, X, y=None):\n",
    "        X = X.str.split()\n",
    "        self.dictionary = corpora.Dictionary(X)\n",
    "        \n",
    "        # 轉為 BOW，然後字元長度不超過1的刪掉\n",
    "        self.corpus = [self.dictionary.doc2bow(token) for token in X if len(token) > 1]\n",
    "        \n",
    "        # 建模，num_topics=x，即x個議題\n",
    "        self.lsi = models.LsiModel(self.corpus, id2word=self.dictionary, num_topics=self.num_topics)\n",
    "\n",
    "        return self\n",
    "\n",
    "    def transform(self, X, y=None):\n",
    "\n",
    "        X = X.str.split()\n",
    "        \n",
    "        # 用句子去計算該句子在各議題的分數，用各議題的分數作為特徵\n",
    "        def word_list_to_group_score(token_list:list):\n",
    "            group_score_list = self.lsi[self.dictionary.doc2bow(token_list)]\n",
    "            if group_score_list:\n",
    "                group_score_unzip = list(zip(*group_score_list))\n",
    "                groups = group_score_unzip [0]\n",
    "                scores = group_score_unzip [1]\n",
    "                return pd.Series(scores, index=[f'group_{group}' for group in groups])\n",
    "            else:\n",
    "                return pd.Series([0 for _ in range(self.num_topics)], index=[f'group_{group}' for group in range(self.num_topics)])\n",
    "\n",
    "        return X.apply(word_list_to_group_score)"
   ]
  },
  {
   "cell_type": "code",
   "execution_count": 13,
   "id": "a3f8d7bd-d4f9-48b2-92d7-6f99927cfc27",
   "metadata": {},
   "outputs": [],
   "source": [
    "# 確認單次訓練的混淆矩陣和分類報告\n",
    "def predict_and_report(model, X_train, y_train, X_test, y_test, y_pred):\n",
    "    \n",
    "    precision, f1 = precision_score(y_test, y_pred), f1_score(y_test, y_pred)\n",
    "\n",
    "    confmat = confusion_matrix(y_test, y_pred)\n",
    "\n",
    "    fig, ax = plt.subplots()\n",
    "    ax.matshow(confmat, cmap=plt.cm.Blues, alpha=0.3)\n",
    "    for i in range(confmat.shape[0]):\n",
    "        for j in range(confmat.shape[1]):\n",
    "            ax.text(x=j, y=i,\n",
    "                    s=confmat[i, j],\n",
    "                    va='center', ha='center')\n",
    "    plt.xlabel('predicted label')\n",
    "    plt.ylabel('true label')\n",
    "    plt.show()\n",
    "#\n",
    "    target_names = ['Not Click', 'Click']\n",
    "    \n",
    "    # 跑BalancedRandomForestClassifier會有很多future warning警告，這邊把它關掉\n",
    "    warnings.filterwarnings(\"ignore\")\n",
    "    \n",
    "    visualizer = ClassificationReport(model, classes=target_names, support=True)\n",
    "    visualizer.fit(X_train, y_train)\n",
    "    visualizer.score(X_test, y_test)  \n",
    "    visualizer.show()\n",
    "    \n",
    "    # 把future warning警告設定回來\n",
    "    warnings.filterwarnings(\"default\") \n",
    "    return precision, f1"
   ]
  },
  {
   "cell_type": "markdown",
   "id": "0c547c9a-4f40-4184-b8f9-eeec5489448a",
   "metadata": {},
   "source": [
    "# **打開模型**"
   ]
  },
  {
   "cell_type": "code",
   "execution_count": 14,
   "id": "d556c6ed-8ce1-4a40-aeb4-91e8f94cadfd",
   "metadata": {},
   "outputs": [],
   "source": [
    "model_dir_path = \"./models\"\n",
    "Click_model_path = model_dir_path + \"/model_click_best_f1.pkl\"\n",
    "DailyNews_model_path = model_dir_path + \"/model_DailyNews_best_f1.pkl\""
   ]
  },
  {
   "cell_type": "code",
   "execution_count": 15,
   "id": "9db94d35-4902-484d-9665-a73d61f896a6",
   "metadata": {},
   "outputs": [],
   "source": [
    "with open(Click_model_path, 'rb') as f:\n",
    "    Click_model = dill.load(f)\n",
    "    \n",
    "with open(DailyNews_model_path, 'rb') as f:\n",
    "    DailyNews_model = dill.load(f)"
   ]
  },
  {
   "cell_type": "markdown",
   "id": "f4a1af26-2fa4-480c-bbcb-ff3ebb969bc7",
   "metadata": {
    "tags": []
   },
   "source": [
    "# **切分Click訓練集測試集**"
   ]
  },
  {
   "cell_type": "markdown",
   "id": "ffe6f7fc-ece2-41da-a960-2b7189041835",
   "metadata": {},
   "source": [
    "Click"
   ]
  },
  {
   "cell_type": "code",
   "execution_count": 16,
   "id": "163597fe-d949-442f-88dd-b5a6df803b6d",
   "metadata": {},
   "outputs": [],
   "source": [
    "X_train, X_test, y_click_train, y_click_test = train_test_split(texts_df.texts, texts_df.Click, test_size=0.2, random_state=42)"
   ]
  },
  {
   "cell_type": "markdown",
   "id": "ed0a1014-199b-4b56-a8f1-e7f8d89923a1",
   "metadata": {},
   "source": [
    "# Click模型再訓練"
   ]
  },
  {
   "cell_type": "code",
   "execution_count": 17,
   "id": "907dab63-481c-49ab-920d-38594c004931",
   "metadata": {},
   "outputs": [
    {
     "data": {
      "text/html": [
       "<style>#sk-container-id-1 {color: black;background-color: white;}#sk-container-id-1 pre{padding: 0;}#sk-container-id-1 div.sk-toggleable {background-color: white;}#sk-container-id-1 label.sk-toggleable__label {cursor: pointer;display: block;width: 100%;margin-bottom: 0;padding: 0.3em;box-sizing: border-box;text-align: center;}#sk-container-id-1 label.sk-toggleable__label-arrow:before {content: \"▸\";float: left;margin-right: 0.25em;color: #696969;}#sk-container-id-1 label.sk-toggleable__label-arrow:hover:before {color: black;}#sk-container-id-1 div.sk-estimator:hover label.sk-toggleable__label-arrow:before {color: black;}#sk-container-id-1 div.sk-toggleable__content {max-height: 0;max-width: 0;overflow: hidden;text-align: left;background-color: #f0f8ff;}#sk-container-id-1 div.sk-toggleable__content pre {margin: 0.2em;color: black;border-radius: 0.25em;background-color: #f0f8ff;}#sk-container-id-1 input.sk-toggleable__control:checked~div.sk-toggleable__content {max-height: 200px;max-width: 100%;overflow: auto;}#sk-container-id-1 input.sk-toggleable__control:checked~label.sk-toggleable__label-arrow:before {content: \"▾\";}#sk-container-id-1 div.sk-estimator input.sk-toggleable__control:checked~label.sk-toggleable__label {background-color: #d4ebff;}#sk-container-id-1 div.sk-label input.sk-toggleable__control:checked~label.sk-toggleable__label {background-color: #d4ebff;}#sk-container-id-1 input.sk-hidden--visually {border: 0;clip: rect(1px 1px 1px 1px);clip: rect(1px, 1px, 1px, 1px);height: 1px;margin: -1px;overflow: hidden;padding: 0;position: absolute;width: 1px;}#sk-container-id-1 div.sk-estimator {font-family: monospace;background-color: #f0f8ff;border: 1px dotted black;border-radius: 0.25em;box-sizing: border-box;margin-bottom: 0.5em;}#sk-container-id-1 div.sk-estimator:hover {background-color: #d4ebff;}#sk-container-id-1 div.sk-parallel-item::after {content: \"\";width: 100%;border-bottom: 1px solid gray;flex-grow: 1;}#sk-container-id-1 div.sk-label:hover label.sk-toggleable__label {background-color: #d4ebff;}#sk-container-id-1 div.sk-serial::before {content: \"\";position: absolute;border-left: 1px solid gray;box-sizing: border-box;top: 0;bottom: 0;left: 50%;z-index: 0;}#sk-container-id-1 div.sk-serial {display: flex;flex-direction: column;align-items: center;background-color: white;padding-right: 0.2em;padding-left: 0.2em;position: relative;}#sk-container-id-1 div.sk-item {position: relative;z-index: 1;}#sk-container-id-1 div.sk-parallel {display: flex;align-items: stretch;justify-content: center;background-color: white;position: relative;}#sk-container-id-1 div.sk-item::before, #sk-container-id-1 div.sk-parallel-item::before {content: \"\";position: absolute;border-left: 1px solid gray;box-sizing: border-box;top: 0;bottom: 0;left: 50%;z-index: -1;}#sk-container-id-1 div.sk-parallel-item {display: flex;flex-direction: column;z-index: 1;position: relative;background-color: white;}#sk-container-id-1 div.sk-parallel-item:first-child::after {align-self: flex-end;width: 50%;}#sk-container-id-1 div.sk-parallel-item:last-child::after {align-self: flex-start;width: 50%;}#sk-container-id-1 div.sk-parallel-item:only-child::after {width: 0;}#sk-container-id-1 div.sk-dashed-wrapped {border: 1px dashed gray;margin: 0 0.4em 0.5em 0.4em;box-sizing: border-box;padding-bottom: 0.4em;background-color: white;}#sk-container-id-1 div.sk-label label {font-family: monospace;font-weight: bold;display: inline-block;line-height: 1.2em;}#sk-container-id-1 div.sk-label-container {text-align: center;}#sk-container-id-1 div.sk-container {/* jupyter's `normalize.less` sets `[hidden] { display: none; }` but bootstrap.min.css set `[hidden] { display: none !important; }` so we also need the `!important` here to be able to override the default hidden behavior on the sphinx rendered scikit-learn.org. See: https://github.com/scikit-learn/scikit-learn/issues/21755 */display: inline-block !important;position: relative;}#sk-container-id-1 div.sk-text-repr-fallback {display: none;}</style><div id=\"sk-container-id-1\" class=\"sk-top-container\"><div class=\"sk-text-repr-fallback\"><pre>Pipeline(steps=[(&#x27;tfidf&#x27;, TfidfVectorizer(max_df=0.9, min_df=2)),\n",
       "                (&#x27;lsa&#x27;, &lt;__main__.LSA object at 0x00000206106A30D0&gt;),\n",
       "                (&#x27;xgbc&#x27;,\n",
       "                 XGBClassifier(base_score=None, booster=None, callbacks=None,\n",
       "                               colsample_bylevel=None, colsample_bynode=None,\n",
       "                               colsample_bytree=0.5, early_stopping_rounds=None,\n",
       "                               enable_categorical=False, eval_metric=None,\n",
       "                               feature_types=None, gamma=None, gpu_id=None,\n",
       "                               grow_policy=None, importance_type=None,\n",
       "                               interaction_constraints=None, learning_rate=0.01,\n",
       "                               max_bin=None, max_cat_threshold=None,\n",
       "                               max_cat_to_onehot=None, max_delta_step=None,\n",
       "                               max_depth=9, max_leaves=None,\n",
       "                               min_child_weight=None, missing=nan,\n",
       "                               monotone_constraints=None, n_estimators=100,\n",
       "                               n_jobs=None, num_parallel_tree=None,\n",
       "                               predictor=None, random_state=None, ...))])</pre><b>In a Jupyter environment, please rerun this cell to show the HTML representation or trust the notebook. <br />On GitHub, the HTML representation is unable to render, please try loading this page with nbviewer.org.</b></div><div class=\"sk-container\" hidden><div class=\"sk-item sk-dashed-wrapped\"><div class=\"sk-label-container\"><div class=\"sk-label sk-toggleable\"><input class=\"sk-toggleable__control sk-hidden--visually\" id=\"sk-estimator-id-1\" type=\"checkbox\" ><label for=\"sk-estimator-id-1\" class=\"sk-toggleable__label sk-toggleable__label-arrow\">Pipeline</label><div class=\"sk-toggleable__content\"><pre>Pipeline(steps=[(&#x27;tfidf&#x27;, TfidfVectorizer(max_df=0.9, min_df=2)),\n",
       "                (&#x27;lsa&#x27;, &lt;__main__.LSA object at 0x00000206106A30D0&gt;),\n",
       "                (&#x27;xgbc&#x27;,\n",
       "                 XGBClassifier(base_score=None, booster=None, callbacks=None,\n",
       "                               colsample_bylevel=None, colsample_bynode=None,\n",
       "                               colsample_bytree=0.5, early_stopping_rounds=None,\n",
       "                               enable_categorical=False, eval_metric=None,\n",
       "                               feature_types=None, gamma=None, gpu_id=None,\n",
       "                               grow_policy=None, importance_type=None,\n",
       "                               interaction_constraints=None, learning_rate=0.01,\n",
       "                               max_bin=None, max_cat_threshold=None,\n",
       "                               max_cat_to_onehot=None, max_delta_step=None,\n",
       "                               max_depth=9, max_leaves=None,\n",
       "                               min_child_weight=None, missing=nan,\n",
       "                               monotone_constraints=None, n_estimators=100,\n",
       "                               n_jobs=None, num_parallel_tree=None,\n",
       "                               predictor=None, random_state=None, ...))])</pre></div></div></div><div class=\"sk-serial\"><div class=\"sk-item\"><div class=\"sk-estimator sk-toggleable\"><input class=\"sk-toggleable__control sk-hidden--visually\" id=\"sk-estimator-id-2\" type=\"checkbox\" ><label for=\"sk-estimator-id-2\" class=\"sk-toggleable__label sk-toggleable__label-arrow\">TfidfVectorizer</label><div class=\"sk-toggleable__content\"><pre>TfidfVectorizer(max_df=0.9, min_df=2)</pre></div></div></div><div class=\"sk-item\"><div class=\"sk-estimator sk-toggleable\"><input class=\"sk-toggleable__control sk-hidden--visually\" id=\"sk-estimator-id-3\" type=\"checkbox\" ><label for=\"sk-estimator-id-3\" class=\"sk-toggleable__label sk-toggleable__label-arrow\">LSA</label><div class=\"sk-toggleable__content\"><pre>&lt;__main__.LSA object at 0x00000206106A30D0&gt;</pre></div></div></div><div class=\"sk-item\"><div class=\"sk-estimator sk-toggleable\"><input class=\"sk-toggleable__control sk-hidden--visually\" id=\"sk-estimator-id-4\" type=\"checkbox\" ><label for=\"sk-estimator-id-4\" class=\"sk-toggleable__label sk-toggleable__label-arrow\">XGBClassifier</label><div class=\"sk-toggleable__content\"><pre>XGBClassifier(base_score=None, booster=None, callbacks=None,\n",
       "              colsample_bylevel=None, colsample_bynode=None,\n",
       "              colsample_bytree=0.5, early_stopping_rounds=None,\n",
       "              enable_categorical=False, eval_metric=None, feature_types=None,\n",
       "              gamma=None, gpu_id=None, grow_policy=None, importance_type=None,\n",
       "              interaction_constraints=None, learning_rate=0.01, max_bin=None,\n",
       "              max_cat_threshold=None, max_cat_to_onehot=None,\n",
       "              max_delta_step=None, max_depth=9, max_leaves=None,\n",
       "              min_child_weight=None, missing=nan, monotone_constraints=None,\n",
       "              n_estimators=100, n_jobs=None, num_parallel_tree=None,\n",
       "              predictor=None, random_state=None, ...)</pre></div></div></div></div></div></div></div>"
      ],
      "text/plain": [
       "Pipeline(steps=[('tfidf', TfidfVectorizer(max_df=0.9, min_df=2)),\n",
       "                ('lsa', <__main__.LSA object at 0x00000206106A30D0>),\n",
       "                ('xgbc',\n",
       "                 XGBClassifier(base_score=None, booster=None, callbacks=None,\n",
       "                               colsample_bylevel=None, colsample_bynode=None,\n",
       "                               colsample_bytree=0.5, early_stopping_rounds=None,\n",
       "                               enable_categorical=False, eval_metric=None,\n",
       "                               feature_types=None, gamma=None, gpu_id=None,\n",
       "                               grow_policy=None, importance_type=None,\n",
       "                               interaction_constraints=None, learning_rate=0.01,\n",
       "                               max_bin=None, max_cat_threshold=None,\n",
       "                               max_cat_to_onehot=None, max_delta_step=None,\n",
       "                               max_depth=9, max_leaves=None,\n",
       "                               min_child_weight=None, missing=nan,\n",
       "                               monotone_constraints=None, n_estimators=100,\n",
       "                               n_jobs=None, num_parallel_tree=None,\n",
       "                               predictor=None, random_state=None, ...))])"
      ]
     },
     "execution_count": 17,
     "metadata": {},
     "output_type": "execute_result"
    }
   ],
   "source": [
    "Click_model.fit(X_train, y_click_train)"
   ]
  },
  {
   "cell_type": "code",
   "execution_count": 18,
   "id": "6cbfb7e1-b336-4d4c-83b6-bc5889eb76b8",
   "metadata": {},
   "outputs": [],
   "source": [
    "y_click_pred = Click_model.predict(X_test)"
   ]
  },
  {
   "cell_type": "code",
   "execution_count": 19,
   "id": "ea7771d5-1704-4377-a2b4-bb049228e2ab",
   "metadata": {},
   "outputs": [],
   "source": [
    "click_precision = precision_score(y_click_test, y_click_pred)\n",
    "click_f1 = f1_score(y_click_test, y_click_pred)"
   ]
  },
  {
   "cell_type": "code",
   "execution_count": 20,
   "id": "fa0be6bd-21d3-4332-be84-c5b56d192fca",
   "metadata": {},
   "outputs": [
    {
     "name": "stdout",
     "output_type": "stream",
     "text": [
      "Click模型再訓練表現\n",
      "precision_score: 0.70\n",
      "f1_score: 0.58\n"
     ]
    }
   ],
   "source": [
    "print(\"Click模型再訓練表現\")\n",
    "print(\"precision_score: {:.2f}\".format(click_precision))\n",
    "print(\"f1_score: {:.2f}\".format(click_f1))"
   ]
  },
  {
   "cell_type": "markdown",
   "id": "3da71268-b07e-458b-aa52-648b8fe29c07",
   "metadata": {},
   "source": [
    "# 儲存Click模型"
   ]
  },
  {
   "cell_type": "code",
   "execution_count": 21,
   "id": "eebcef9e-f95a-42c7-a993-f71d81d2d292",
   "metadata": {},
   "outputs": [],
   "source": [
    "# 儲存模型到指定路徑\n",
    "with open(Click_model_path, \"wb\") as f:\n",
    "    dill.dump(Click_model, f)"
   ]
  },
  {
   "cell_type": "markdown",
   "id": "c3b59ef4-c2bc-4ed7-94e5-4d093d631f18",
   "metadata": {
    "tags": []
   },
   "source": [
    "# **切分DailyNews訓練集測試集**"
   ]
  },
  {
   "cell_type": "markdown",
   "id": "5d92a9ed-57b5-4256-a908-0a9e8ca4ae45",
   "metadata": {},
   "source": [
    "DailyNews"
   ]
  },
  {
   "cell_type": "code",
   "execution_count": 22,
   "id": "0048c26d-48b7-4821-b224-2b1172c943eb",
   "metadata": {},
   "outputs": [],
   "source": [
    "X_train, X_test, y_DailyNews_train, y_DailyNews_test = train_test_split(texts_df.texts, texts_df.DailyNews, test_size=0.2, random_state=42)"
   ]
  },
  {
   "cell_type": "markdown",
   "id": "f4d6bb43-1316-48c7-a0cd-8873ceb8ffa8",
   "metadata": {},
   "source": [
    "# DailyNews模型再訓練"
   ]
  },
  {
   "cell_type": "code",
   "execution_count": 23,
   "id": "554d4a85-19b6-4ca7-9ca3-43e768ce11cb",
   "metadata": {},
   "outputs": [
    {
     "name": "stderr",
     "output_type": "stream",
     "text": [
      "c:\\users\\benbllee\\appdata\\local\\programs\\python\\python38\\lib\\site-packages\\gensim\\models\\lsimodel.py:963: DeprecationWarning: Please use `csc_matvecs` from the `scipy.sparse` namespace, the `scipy.sparse.sparsetools` namespace is deprecated.\n",
      "  sparsetools.csc_matvecs(\n"
     ]
    },
    {
     "data": {
      "text/html": [
       "<style>#sk-container-id-2 {color: black;background-color: white;}#sk-container-id-2 pre{padding: 0;}#sk-container-id-2 div.sk-toggleable {background-color: white;}#sk-container-id-2 label.sk-toggleable__label {cursor: pointer;display: block;width: 100%;margin-bottom: 0;padding: 0.3em;box-sizing: border-box;text-align: center;}#sk-container-id-2 label.sk-toggleable__label-arrow:before {content: \"▸\";float: left;margin-right: 0.25em;color: #696969;}#sk-container-id-2 label.sk-toggleable__label-arrow:hover:before {color: black;}#sk-container-id-2 div.sk-estimator:hover label.sk-toggleable__label-arrow:before {color: black;}#sk-container-id-2 div.sk-toggleable__content {max-height: 0;max-width: 0;overflow: hidden;text-align: left;background-color: #f0f8ff;}#sk-container-id-2 div.sk-toggleable__content pre {margin: 0.2em;color: black;border-radius: 0.25em;background-color: #f0f8ff;}#sk-container-id-2 input.sk-toggleable__control:checked~div.sk-toggleable__content {max-height: 200px;max-width: 100%;overflow: auto;}#sk-container-id-2 input.sk-toggleable__control:checked~label.sk-toggleable__label-arrow:before {content: \"▾\";}#sk-container-id-2 div.sk-estimator input.sk-toggleable__control:checked~label.sk-toggleable__label {background-color: #d4ebff;}#sk-container-id-2 div.sk-label input.sk-toggleable__control:checked~label.sk-toggleable__label {background-color: #d4ebff;}#sk-container-id-2 input.sk-hidden--visually {border: 0;clip: rect(1px 1px 1px 1px);clip: rect(1px, 1px, 1px, 1px);height: 1px;margin: -1px;overflow: hidden;padding: 0;position: absolute;width: 1px;}#sk-container-id-2 div.sk-estimator {font-family: monospace;background-color: #f0f8ff;border: 1px dotted black;border-radius: 0.25em;box-sizing: border-box;margin-bottom: 0.5em;}#sk-container-id-2 div.sk-estimator:hover {background-color: #d4ebff;}#sk-container-id-2 div.sk-parallel-item::after {content: \"\";width: 100%;border-bottom: 1px solid gray;flex-grow: 1;}#sk-container-id-2 div.sk-label:hover label.sk-toggleable__label {background-color: #d4ebff;}#sk-container-id-2 div.sk-serial::before {content: \"\";position: absolute;border-left: 1px solid gray;box-sizing: border-box;top: 0;bottom: 0;left: 50%;z-index: 0;}#sk-container-id-2 div.sk-serial {display: flex;flex-direction: column;align-items: center;background-color: white;padding-right: 0.2em;padding-left: 0.2em;position: relative;}#sk-container-id-2 div.sk-item {position: relative;z-index: 1;}#sk-container-id-2 div.sk-parallel {display: flex;align-items: stretch;justify-content: center;background-color: white;position: relative;}#sk-container-id-2 div.sk-item::before, #sk-container-id-2 div.sk-parallel-item::before {content: \"\";position: absolute;border-left: 1px solid gray;box-sizing: border-box;top: 0;bottom: 0;left: 50%;z-index: -1;}#sk-container-id-2 div.sk-parallel-item {display: flex;flex-direction: column;z-index: 1;position: relative;background-color: white;}#sk-container-id-2 div.sk-parallel-item:first-child::after {align-self: flex-end;width: 50%;}#sk-container-id-2 div.sk-parallel-item:last-child::after {align-self: flex-start;width: 50%;}#sk-container-id-2 div.sk-parallel-item:only-child::after {width: 0;}#sk-container-id-2 div.sk-dashed-wrapped {border: 1px dashed gray;margin: 0 0.4em 0.5em 0.4em;box-sizing: border-box;padding-bottom: 0.4em;background-color: white;}#sk-container-id-2 div.sk-label label {font-family: monospace;font-weight: bold;display: inline-block;line-height: 1.2em;}#sk-container-id-2 div.sk-label-container {text-align: center;}#sk-container-id-2 div.sk-container {/* jupyter's `normalize.less` sets `[hidden] { display: none; }` but bootstrap.min.css set `[hidden] { display: none !important; }` so we also need the `!important` here to be able to override the default hidden behavior on the sphinx rendered scikit-learn.org. See: https://github.com/scikit-learn/scikit-learn/issues/21755 */display: inline-block !important;position: relative;}#sk-container-id-2 div.sk-text-repr-fallback {display: none;}</style><div id=\"sk-container-id-2\" class=\"sk-top-container\"><div class=\"sk-text-repr-fallback\"><pre>Pipeline(steps=[(&#x27;lsi&#x27;, &lt;__main__.LSI object at 0x00000206106A3A00&gt;),\n",
       "                (&#x27;xgbc&#x27;,\n",
       "                 XGBClassifier(base_score=None, booster=None, callbacks=None,\n",
       "                               colsample_bylevel=None, colsample_bynode=None,\n",
       "                               colsample_bytree=0.5, early_stopping_rounds=None,\n",
       "                               enable_categorical=False, eval_metric=None,\n",
       "                               feature_types=None, gamma=None, gpu_id=None,\n",
       "                               grow_policy=None, importance_type=None,\n",
       "                               interaction_constraints=None, learning_rate=0.5,\n",
       "                               max_bin=None, max_cat_threshold=None,\n",
       "                               max_cat_to_onehot=None, max_delta_step=None,\n",
       "                               max_depth=9, max_leaves=None,\n",
       "                               min_child_weight=None, missing=nan,\n",
       "                               monotone_constraints=None, n_estimators=100,\n",
       "                               n_jobs=None, num_parallel_tree=None,\n",
       "                               predictor=None, random_state=None, ...))])</pre><b>In a Jupyter environment, please rerun this cell to show the HTML representation or trust the notebook. <br />On GitHub, the HTML representation is unable to render, please try loading this page with nbviewer.org.</b></div><div class=\"sk-container\" hidden><div class=\"sk-item sk-dashed-wrapped\"><div class=\"sk-label-container\"><div class=\"sk-label sk-toggleable\"><input class=\"sk-toggleable__control sk-hidden--visually\" id=\"sk-estimator-id-5\" type=\"checkbox\" ><label for=\"sk-estimator-id-5\" class=\"sk-toggleable__label sk-toggleable__label-arrow\">Pipeline</label><div class=\"sk-toggleable__content\"><pre>Pipeline(steps=[(&#x27;lsi&#x27;, &lt;__main__.LSI object at 0x00000206106A3A00&gt;),\n",
       "                (&#x27;xgbc&#x27;,\n",
       "                 XGBClassifier(base_score=None, booster=None, callbacks=None,\n",
       "                               colsample_bylevel=None, colsample_bynode=None,\n",
       "                               colsample_bytree=0.5, early_stopping_rounds=None,\n",
       "                               enable_categorical=False, eval_metric=None,\n",
       "                               feature_types=None, gamma=None, gpu_id=None,\n",
       "                               grow_policy=None, importance_type=None,\n",
       "                               interaction_constraints=None, learning_rate=0.5,\n",
       "                               max_bin=None, max_cat_threshold=None,\n",
       "                               max_cat_to_onehot=None, max_delta_step=None,\n",
       "                               max_depth=9, max_leaves=None,\n",
       "                               min_child_weight=None, missing=nan,\n",
       "                               monotone_constraints=None, n_estimators=100,\n",
       "                               n_jobs=None, num_parallel_tree=None,\n",
       "                               predictor=None, random_state=None, ...))])</pre></div></div></div><div class=\"sk-serial\"><div class=\"sk-item\"><div class=\"sk-estimator sk-toggleable\"><input class=\"sk-toggleable__control sk-hidden--visually\" id=\"sk-estimator-id-6\" type=\"checkbox\" ><label for=\"sk-estimator-id-6\" class=\"sk-toggleable__label sk-toggleable__label-arrow\">LSI</label><div class=\"sk-toggleable__content\"><pre>&lt;__main__.LSI object at 0x00000206106A3A00&gt;</pre></div></div></div><div class=\"sk-item\"><div class=\"sk-estimator sk-toggleable\"><input class=\"sk-toggleable__control sk-hidden--visually\" id=\"sk-estimator-id-7\" type=\"checkbox\" ><label for=\"sk-estimator-id-7\" class=\"sk-toggleable__label sk-toggleable__label-arrow\">XGBClassifier</label><div class=\"sk-toggleable__content\"><pre>XGBClassifier(base_score=None, booster=None, callbacks=None,\n",
       "              colsample_bylevel=None, colsample_bynode=None,\n",
       "              colsample_bytree=0.5, early_stopping_rounds=None,\n",
       "              enable_categorical=False, eval_metric=None, feature_types=None,\n",
       "              gamma=None, gpu_id=None, grow_policy=None, importance_type=None,\n",
       "              interaction_constraints=None, learning_rate=0.5, max_bin=None,\n",
       "              max_cat_threshold=None, max_cat_to_onehot=None,\n",
       "              max_delta_step=None, max_depth=9, max_leaves=None,\n",
       "              min_child_weight=None, missing=nan, monotone_constraints=None,\n",
       "              n_estimators=100, n_jobs=None, num_parallel_tree=None,\n",
       "              predictor=None, random_state=None, ...)</pre></div></div></div></div></div></div></div>"
      ],
      "text/plain": [
       "Pipeline(steps=[('lsi', <__main__.LSI object at 0x00000206106A3A00>),\n",
       "                ('xgbc',\n",
       "                 XGBClassifier(base_score=None, booster=None, callbacks=None,\n",
       "                               colsample_bylevel=None, colsample_bynode=None,\n",
       "                               colsample_bytree=0.5, early_stopping_rounds=None,\n",
       "                               enable_categorical=False, eval_metric=None,\n",
       "                               feature_types=None, gamma=None, gpu_id=None,\n",
       "                               grow_policy=None, importance_type=None,\n",
       "                               interaction_constraints=None, learning_rate=0.5,\n",
       "                               max_bin=None, max_cat_threshold=None,\n",
       "                               max_cat_to_onehot=None, max_delta_step=None,\n",
       "                               max_depth=9, max_leaves=None,\n",
       "                               min_child_weight=None, missing=nan,\n",
       "                               monotone_constraints=None, n_estimators=100,\n",
       "                               n_jobs=None, num_parallel_tree=None,\n",
       "                               predictor=None, random_state=None, ...))])"
      ]
     },
     "execution_count": 23,
     "metadata": {},
     "output_type": "execute_result"
    }
   ],
   "source": [
    "DailyNews_model.fit(X_train, y_DailyNews_train)"
   ]
  },
  {
   "cell_type": "code",
   "execution_count": 24,
   "id": "f8cc1f97-c23d-4825-954c-60433e6e9c2f",
   "metadata": {},
   "outputs": [],
   "source": [
    "y_DailyNews_pred = DailyNews_model.predict(X_test)"
   ]
  },
  {
   "cell_type": "code",
   "execution_count": 25,
   "id": "ad59e6ce-792d-4945-a489-e2b57be309aa",
   "metadata": {},
   "outputs": [],
   "source": [
    "DailyNews_precision = precision_score(y_DailyNews_test, y_DailyNews_pred)\n",
    "DailyNews_f1 = f1_score(y_DailyNews_test, y_DailyNews_pred)"
   ]
  },
  {
   "cell_type": "code",
   "execution_count": 26,
   "id": "5f6df05e-5959-4a05-9278-9fb396b51f13",
   "metadata": {},
   "outputs": [
    {
     "name": "stdout",
     "output_type": "stream",
     "text": [
      "DailyNews模型再訓練表現\n",
      "precision_score: 0.62\n",
      "f1_score: 0.45\n"
     ]
    }
   ],
   "source": [
    "print(\"DailyNews模型再訓練表現\")\n",
    "print(\"precision_score: {:.2f}\".format(DailyNews_precision))\n",
    "print(\"f1_score: {:.2f}\".format(DailyNews_f1))"
   ]
  },
  {
   "cell_type": "markdown",
   "id": "db6b6c49-00ff-497b-bda1-3225046bd704",
   "metadata": {},
   "source": [
    "# 儲存DailyNews模型"
   ]
  },
  {
   "cell_type": "code",
   "execution_count": 28,
   "id": "70e98136-960d-4333-80de-a8448459d910",
   "metadata": {},
   "outputs": [],
   "source": [
    "# 儲存模型到指定路徑\n",
    "with open(DailyNews_model_path, \"wb\") as f:\n",
    "    dill.dump(DailyNews_model, f)"
   ]
  },
  {
   "cell_type": "markdown",
   "id": "cd0fcdbd-848c-4cb6-867a-16b44933b377",
   "metadata": {},
   "source": [
    "# 備份模型"
   ]
  },
  {
   "cell_type": "code",
   "execution_count": 31,
   "id": "2bd3be00-bb54-4df4-b3b5-52268b412b1e",
   "metadata": {},
   "outputs": [],
   "source": [
    "now = datetime.now().strftime(\"%Y%m%d\")"
   ]
  },
  {
   "cell_type": "code",
   "execution_count": 34,
   "id": "83ec5f20-fa64-459d-8274-0bca4e533169",
   "metadata": {},
   "outputs": [],
   "source": [
    "model_dir_path = model_dir_path + \"/\" + now"
   ]
  },
  {
   "cell_type": "code",
   "execution_count": 35,
   "id": "c8f745e2-fa84-4936-804e-05c7fb47dde7",
   "metadata": {},
   "outputs": [],
   "source": [
    "Click_model_path = model_dir_path + \"/model_click_best_f1.pkl\"\n",
    "DailyNews_model_path = model_dir_path + \"/model_DailyNews_best_f1.pkl\""
   ]
  },
  {
   "cell_type": "code",
   "execution_count": 36,
   "id": "7aeb06f4-69c6-412c-9434-79361f7acc1e",
   "metadata": {},
   "outputs": [],
   "source": [
    "if not os.path.exists(model_dir_path): os.mkdir(model_dir_path)\n",
    "\n",
    "with open(Click_model_path, \"wb\") as f:\n",
    "    dill.dump(Click_model, f)\n",
    "\n",
    "with open(DailyNews_model_path, \"wb\") as f:\n",
    "    dill.dump(DailyNews_model, f)"
   ]
  },
  {
   "cell_type": "code",
   "execution_count": null,
   "id": "b3d84a27-4fa0-420d-895f-543a40e6d751",
   "metadata": {},
   "outputs": [],
   "source": []
  }
 ],
 "metadata": {
  "kernelspec": {
   "display_name": "Python 3 (ipykernel)",
   "language": "python",
   "name": "python3"
  },
  "language_info": {
   "codemirror_mode": {
    "name": "ipython",
    "version": 3
   },
   "file_extension": ".py",
   "mimetype": "text/x-python",
   "name": "python",
   "nbconvert_exporter": "python",
   "pygments_lexer": "ipython3",
   "version": "3.8.10"
  }
 },
 "nbformat": 4,
 "nbformat_minor": 5
}
